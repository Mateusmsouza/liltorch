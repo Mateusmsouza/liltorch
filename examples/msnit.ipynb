{
 "cells": [
  {
   "cell_type": "code",
   "execution_count": 1,
   "metadata": {},
   "outputs": [],
   "source": [
    "# Additional libraries required to plot and download data\n",
    "!pip install keras tensorflow\n",
    "!pip install matplotlib"
   ]
  },
  {
   "cell_type": "code",
   "execution_count": null,
   "metadata": {},
   "outputs": [],
   "source": [
    "from keras.datasets import mnist\n",
    "from keras.utils import to_categorical\n",
    "import matplotlib.pyplot as plt\n",
    "import numpy as np\n",
    "\n",
    "from liltorch.nn.fully_connected import FullyConnectedLayer\n",
    "from liltorch.nn.activation import Tanh\n",
    "from liltorch.nn.network import Network\n",
    "\n",
    "from liltorch.nn.loss import MeanSquaredError\n",
    "from liltorch.nn.optimzer import GD"
   ]
  },
  {
   "cell_type": "code",
   "execution_count": null,
   "metadata": {},
   "outputs": [],
   "source": [
    "lr = 0.1\n",
    "epochs = 25\n",
    "batch_size = 16"
   ]
  },
  {
   "cell_type": "markdown",
   "metadata": {},
   "source": [
    "# Downloading and visualizing the dataset"
   ]
  },
  {
   "cell_type": "code",
   "execution_count": null,
   "metadata": {},
   "outputs": [],
   "source": [
    "(x_train, y_train), (x_test, y_test) = mnist.load_data()"
   ]
  },
  {
   "cell_type": "code",
   "execution_count": null,
   "metadata": {},
   "outputs": [
    {
     "data": {
      "image/png": "[encoded data removed]",
      "text/plain": [
       "<Figure size 1200x1200 with 6 Axes>"
      ]
     },
     "metadata": {},
     "output_type": "display_data"
    }
   ],
   "source": [
    "n = 6\n",
    "\n",
    "_, axs = plt.subplots(1, n, figsize=(12, 12))\n",
    "axs = axs.flatten()\n",
    "for img, ax in zip(x_train[0:n], axs):\n",
    "    ax.imshow(img)\n",
    "plt.show()"
   ]
  },
  {
   "cell_type": "code",
   "execution_count": null,
   "metadata": {},
   "outputs": [
    {
     "name": "stdout",
     "output_type": "stream",
     "text": [
      "shape of xtrain (60000, 784) xtrain (60000, 10) and xtrain (10000, 784) xtest (10000, 784)\n"
     ]
    }
   ],
   "source": [
    "x_train = x_train.reshape(x_train.shape[0], 28*28)\n",
    "x_train = x_train.astype('float32')\n",
    "x_train /= 255\n",
    "y_train = to_categorical(y_train)\n",
    "\n",
    "x_test = x_test.reshape(x_test.shape[0], 28*28)\n",
    "x_test = x_test.astype('float32')\n",
    "x_test /= 255\n",
    "y_test = to_categorical(y_test)\n",
    "\n",
    "print(f'shape of xtrain {x_train.shape} xtrain {y_train.shape} and xtrain {x_test.shape} xtest {x_test.shape}')"
   ]
  },
  {
   "cell_type": "markdown",
   "metadata": {},
   "source": [
    "# Build, train and test the MLP model"
   ]
  },
  {
   "cell_type": "code",
   "execution_count": null,
   "metadata": {},
   "outputs": [],
   "source": [
    "model = Network(lr=lr)\n",
    "model.add(FullyConnectedLayer(28*28, 100))\n",
    "model.add(Tanh())\n",
    "model.add(FullyConnectedLayer(100, 50))\n",
    "model.add(Tanh())\n",
    "model.add(FullyConnectedLayer(50, 10))\n",
    "model.add(Tanh())\n",
    "\n",
    "optimizer = GD(model=model)"
   ]
  },
  {
   "cell_type": "code",
   "execution_count": null,
   "metadata": {},
   "outputs": [
    {
     "name": "stdout",
     "output_type": "stream",
     "text": [
      "Epoch 0 -> Average loss 0.005855663280072988 / Average Accuracy 0.4864\n",
      "Epoch 1 -> Average loss 0.002878347700019037 / Average Accuracy 0.7298\n",
      "Epoch 2 -> Average loss 0.0022292722669247566 / Average Accuracy 0.8136\n",
      "Epoch 3 -> Average loss 0.0018648248294065738 / Average Accuracy 0.8410\n",
      "Epoch 4 -> Average loss 0.0016041505021474334 / Average Accuracy 0.8590\n",
      "Epoch 5 -> Average loss 0.0013697349405033916 / Average Accuracy 0.8773\n",
      "Epoch 6 -> Average loss 0.001210091334082699 / Average Accuracy 0.8924\n",
      "Epoch 7 -> Average loss 0.0011135417891742672 / Average Accuracy 0.9013\n",
      "Epoch 8 -> Average loss 0.0010454914097396404 / Average Accuracy 0.9072\n",
      "Epoch 9 -> Average loss 0.000992061203756293 / Average Accuracy 0.9115\n",
      "Epoch 10 -> Average loss 0.0009479835068435065 / Average Accuracy 0.9157\n",
      "Epoch 11 -> Average loss 0.0009105575336868624 / Average Accuracy 0.9192\n",
      "Epoch 12 -> Average loss 0.0008780660217550284 / Average Accuracy 0.9216\n",
      "Epoch 13 -> Average loss 0.0008493001781056938 / Average Accuracy 0.9241\n",
      "Epoch 14 -> Average loss 0.0008234245759100237 / Average Accuracy 0.9263\n",
      "Epoch 15 -> Average loss 0.0007998809206002003 / Average Accuracy 0.9284\n",
      "Epoch 16 -> Average loss 0.0007782792815045538 / Average Accuracy 0.9301\n",
      "Epoch 17 -> Average loss 0.0007583393949464598 / Average Accuracy 0.9319\n",
      "Epoch 18 -> Average loss 0.0007398598349207956 / Average Accuracy 0.9336\n",
      "Epoch 19 -> Average loss 0.0007226770969368914 / Average Accuracy 0.9352\n",
      "Epoch 20 -> Average loss 0.0007066486609076345 / Average Accuracy 0.9366\n",
      "Epoch 21 -> Average loss 0.0006916490111865241 / Average Accuracy 0.9379\n",
      "Epoch 22 -> Average loss 0.0006775683336202231 / Average Accuracy 0.9392\n",
      "Epoch 23 -> Average loss 0.0006643161170951877 / Average Accuracy 0.9404\n",
      "Epoch 24 -> Average loss 0.0006518204967128305 / Average Accuracy 0.9415\n"
     ]
    }
   ],
   "source": [
    "for epoch in range(epochs):\n",
    "    epoch_loss = 0\n",
    "    correct = 0\n",
    "    dataset_size = len(x_train)\n",
    "    criterion = MeanSquaredError()\n",
    "    for batch_begin in range(0, dataset_size, batch_size):\n",
    "        batch_end = min(batch_begin + batch_size, dataset_size)\n",
    "        data = x_train[batch_begin:batch_end]\n",
    "        target = y_train[batch_begin:batch_end]\n",
    "\n",
    "        optimizer.zero_grad()\n",
    "\n",
    "        # forward\n",
    "        output = model.forward(data)\n",
    "        epoch_loss += criterion.forward(target, output)\n",
    "\n",
    "        # backward pass\n",
    "        error = criterion.backward(target, output)\n",
    "        model.backward(error)\n",
    "        optimizer.step()\n",
    "        correct += np.sum((np.argmax(output, axis=1) == np.argmax(target, axis=1)))\n",
    "    print(f'Epoch {epoch} -> Average loss {epoch_loss/dataset_size} / Average Accuracy {(correct/dataset_size):.4f}')"
   ]
  },
  {
   "cell_type": "code",
   "execution_count": null,
   "metadata": {},
   "outputs": [
    {
     "name": "stdout",
     "output_type": "stream",
     "text": [
      "Test Accuracy: 0.9395\n"
     ]
    }
   ],
   "source": [
    "correct = 0\n",
    "dataset_size = len(x_test)\n",
    "for batch_begin in range(0, dataset_size, batch_size):\n",
    "    batch_end = min(batch_begin + batch_size, dataset_size)\n",
    "    data = x_test[batch_begin:batch_end]\n",
    "    target = y_test[batch_begin:batch_end]\n",
    "\n",
    "    output = model.forward(data)\n",
    "    correct += np.sum((np.argmax(output, axis=1) == np.argmax(target, axis=1)))\n",
    "\n",
    "print(f'Test Accuracy: {(correct/dataset_size):.4f}')"
   ]
  }
 ],
 "metadata": {
  "kernelspec": {
   "display_name": ".venv",
   "language": "python",
   "name": "python3"
  },
  "language_info": {
   "codemirror_mode": {
    "name": "ipython",
    "version": 3
   },
   "file_extension": ".py",
   "mimetype": "text/x-python",
   "name": "python",
   "nbconvert_exporter": "python",
   "pygments_lexer": "ipython3",
   "version": "3.11.4"
  }
 },
 "nbformat": 4,
 "nbformat_minor": 2
}
